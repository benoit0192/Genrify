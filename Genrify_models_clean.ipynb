{
 "cells": [
  {
   "cell_type": "markdown",
   "metadata": {},
   "source": [
    "# Genrify Project - Phase II\n",
    "# Music genre prediction"
   ]
  },
  {
   "cell_type": "markdown",
   "metadata": {},
   "source": [
    "Henri Toussaint<br>\n",
    "Victor Saint Guilhem<br>\n",
    "Benoît Lafon<br>"
   ]
  },
  {
   "cell_type": "markdown",
   "metadata": {},
   "source": [
    "The project sets out to predict the genre of a music using the Spotify API, which provides audio features for each tracks. To collect the tracks, we used a recommandation function with a genre seed. We handpicked 20 genres in order to best represent tracks, and from each genre, we collected 100 tracks."
   ]
  },
  {
   "cell_type": "code",
   "execution_count": 25,
   "metadata": {
    "collapsed": false
   },
   "outputs": [],
   "source": [
    "from genrify_module import *\n",
    "%matplotlib inline"
   ]
  },
  {
   "cell_type": "markdown",
   "metadata": {},
   "source": [
    "# Data Loading Using Pandas"
   ]
  },
  {
   "cell_type": "code",
   "execution_count": 26,
   "metadata": {
    "collapsed": false,
    "scrolled": false
   },
   "outputs": [],
   "source": [
    "data = pd.read_csv(\"music_collection.csv\")\n",
    "#data = data.iloc[np.random.permutation(len(data))]\n",
    "pd_attributes = data.loc[:,'acousticness':'valence']\n",
    "attributes = np.array(pd_attributes)"
   ]
  },
  {
   "cell_type": "markdown",
   "metadata": {},
   "source": [
    "# Data Shape"
   ]
  },
  {
   "cell_type": "code",
   "execution_count": 27,
   "metadata": {
    "collapsed": false
   },
   "outputs": [
    {
     "name": "stdout",
     "output_type": "stream",
     "text": [
      "Number of instances: 2000\n",
      "Number of attributes: 13\n",
      "Attributes:\n",
      "\tacousticness\n",
      "\tdanceability\n",
      "\tduration_ms\n",
      "\tenergy\n",
      "\tinstrumentalness\n",
      "\tkey\n",
      "\tliveness\n",
      "\tloudness\n",
      "\tmode\n",
      "\tspeechiness\n",
      "\ttempo\n",
      "\ttime_signature\n",
      "\tvalence\n"
     ]
    }
   ],
   "source": [
    "print('Number of instances: ' + str(data.shape[0]))\n",
    "print('Number of attributes: ' + str(pd_attributes.shape[1]))\n",
    "print('Attributes:')\n",
    "for i in pd_attributes.columns.values:\n",
    "    print('\\t'+str(i))"
   ]
  },
  {
   "cell_type": "markdown",
   "metadata": {},
   "source": [
    "# Performance Measure"
   ]
  },
  {
   "cell_type": "markdown",
   "metadata": {},
   "source": [
    "For our performance measure, we chose the accuracy, as we have a multiclass classification problem. We felt that the other measures like precision, recall or ROC were more fitted to binary data and are in fact more complicated to get through cross validation (using the function cross_val_score, we can only use accuracy on multiclass data)."
   ]
  },
  {
   "cell_type": "code",
   "execution_count": 28,
   "metadata": {
    "collapsed": true
   },
   "outputs": [],
   "source": [
    "#To store the performance of different models\n",
    "global_accuracy_scores = {}"
   ]
  },
  {
   "cell_type": "markdown",
   "metadata": {},
   "source": [
    "### Scaling"
   ]
  },
  {
   "cell_type": "code",
   "execution_count": 29,
   "metadata": {
    "collapsed": true
   },
   "outputs": [],
   "source": [
    "sc_attributes = scale(attributes)"
   ]
  },
  {
   "cell_type": "markdown",
   "metadata": {},
   "source": [
    "### Multinomial Target Variable"
   ]
  },
  {
   "cell_type": "code",
   "execution_count": 30,
   "metadata": {
    "collapsed": true
   },
   "outputs": [],
   "source": [
    "GENRES = ['alternative','blues','classical','country','electro','folk','french','hard-rock','heavy-metal','hip-hop','indie','jazz','pop','psych-rock','punk-rock','r-n-b','reggae','rock','soul','techno']\n",
    "target_multinomial = []\n",
    "for i in data['genre']:\n",
    "    target_multinomial.append(GENRES.index(i))\n",
    "target_multinomial=np.array(target_multinomial)"
   ]
  },
  {
   "cell_type": "markdown",
   "metadata": {},
   "source": [
    "# Baselines"
   ]
  },
  {
   "cell_type": "markdown",
   "metadata": {},
   "source": [
    "Our data does not have a clear majority class, as we chose to pick exactly 100 songs from 20 genres. So, as expected, the majority class classifier labels everything as one genre and we get an accuracy of 1/20."
   ]
  },
  {
   "cell_type": "markdown",
   "metadata": {},
   "source": [
    "### Random prediction"
   ]
  },
  {
   "cell_type": "code",
   "execution_count": 31,
   "metadata": {
    "collapsed": false
   },
   "outputs": [
    {
     "name": "stdout",
     "output_type": "stream",
     "text": [
      "Averaged Accuracy: 0.055\n"
     ]
    }
   ],
   "source": [
    "random_model = DummyClassifier(strategy='uniform')\n",
    "\n",
    "random_acc_scores = cross_val_score(random_model, sc_attributes, target_multinomial,cv=10)\n",
    "avg_random_acc = np.mean(random_acc_scores)\n",
    "print(\"Averaged Accuracy: \" + str(avg_random_acc))\n",
    "global_accuracy_scores[\"Random\"] = avg_random_acc"
   ]
  },
  {
   "cell_type": "markdown",
   "metadata": {},
   "source": [
    "### Predicting the majority class"
   ]
  },
  {
   "cell_type": "code",
   "execution_count": 32,
   "metadata": {
    "collapsed": false
   },
   "outputs": [
    {
     "name": "stdout",
     "output_type": "stream",
     "text": [
      "Averaged Accuracy: 0.05\n"
     ]
    }
   ],
   "source": [
    "majo_model = DummyClassifier(strategy='most_frequent')\n",
    "\n",
    "majo_acc_scores = cross_val_score(majo_model, sc_attributes, target_multinomial,cv=10)\n",
    "avg_majo_acc = np.mean(majo_acc_scores)\n",
    "print(\"Averaged Accuracy: \" + str(avg_majo_acc))\n",
    "global_accuracy_scores[\"Majority Class \"] = avg_majo_acc"
   ]
  },
  {
   "cell_type": "markdown",
   "metadata": {},
   "source": [
    "# Model selection"
   ]
  },
  {
   "cell_type": "markdown",
   "metadata": {},
   "source": [
    "We tried a range of different classifiers with different parameters. We did not try every possible configurations, and instead focused on some that we felt were more pertinent. Through trial and error we eliminated some models and parameters that we believed did not add anything to our current presentation.\n",
    "\n",
    "Some models, like Neural Network, take a lot of time to compute (around 5 to 10 minutes depending on your computer)."
   ]
  },
  {
   "cell_type": "markdown",
   "metadata": {},
   "source": [
    "### Logistic Regression"
   ]
  },
  {
   "cell_type": "code",
   "execution_count": 33,
   "metadata": {
    "collapsed": false,
    "scrolled": false
   },
   "outputs": [
    {
     "name": "stdout",
     "output_type": "stream",
     "text": [
      "Averaged accuracy for c=0.01: 0.335\n",
      "Averaged accuracy for c=0.1: 0.359\n",
      "Averaged accuracy for c=10: 0.365\n",
      "Averaged accuracy for c=20: 0.3675\n",
      "Averaged accuracy for c=30: 0.3685\n",
      "Averaged accuracy for c=40: 0.37\n",
      "Averaged accuracy for c=50: 0.37\n",
      "Averaged accuracy for c=60: 0.37\n",
      "Averaged accuracy for c=70: 0.37\n",
      "Averaged accuracy for c=80: 0.3705\n",
      "Averaged accuracy for c=90: 0.3705\n",
      "Averaged accuracy for c=100: 0.3705\n",
      "Averaged accuracy for c=110: 0.3705\n",
      "Averaged accuracy for c=120: 0.3705\n",
      "Averaged accuracy for c=130: 0.371\n",
      "Averaged accuracy for c=140: 0.371\n",
      "Averaged accuracy for c=150: 0.371\n",
      "Averaged accuracy for c=160: 0.37\n",
      "Averaged accuracy for c=170: 0.371\n",
      "Averaged accuracy for c=180: 0.3705\n",
      "Averaged accuracy for c=190: 0.3705\n",
      "Averaged accuracy for c=200: 0.3705\n",
      "Averaged accuracy for c=210: 0.3705\n",
      "Averaged accuracy for c=220: 0.3705\n",
      "Averaged accuracy for c=230: 0.3705\n",
      "Averaged accuracy for c=240: 0.3705\n",
      "Averaged accuracy for c=250: 0.3705\n",
      "Averaged accuracy for c=260: 0.3705\n",
      "Averaged accuracy for c=270: 0.3705\n",
      "Averaged accuracy for c=280: 0.3705\n",
      "Averaged accuracy for c=290: 0.3705\n",
      "Averaged accuracy for c=300: 0.3705\n",
      "Best accuracy is 0.371 with c=170\n"
     ]
    }
   ],
   "source": [
    "Cs = [0.01, 0.1]\n",
    "Cs.extend(range(10, 310, 10))\n",
    "max_score = 0\n",
    "lr_best_c = Cs[0]\n",
    "\n",
    "for c in Cs:\n",
    "    model = LogisticRegression(C=c, multi_class='multinomial', solver='newton-cg', random_state=1)\n",
    "    score = np.mean(cross_val_score(model, sc_attributes, target_multinomial,cv=10, scoring='accuracy'))\n",
    "    print(\"Averaged accuracy for c=\" + str(c) + \": \" + str(score) )\n",
    "    if (score > max_score):\n",
    "        max_score = score\n",
    "        lr_best_c = c\n",
    "\n",
    "print(\"Best accuracy is \"+ str(max_score) + \" with c=\" + str(lr_best_c))\n",
    "global_accuracy_scores[\"Logistic Regression \"] = max_score\n"
   ]
  },
  {
   "cell_type": "markdown",
   "metadata": {},
   "source": [
    "### Decision Tree"
   ]
  },
  {
   "cell_type": "markdown",
   "metadata": {},
   "source": [
    "For the decision tree, default parameters seems to not enhance the result much. \n",
    "\n",
    "Therefore, we just launched it several times to find a maximum accuracy."
   ]
  },
  {
   "cell_type": "code",
   "execution_count": 34,
   "metadata": {
    "collapsed": false,
    "scrolled": true
   },
   "outputs": [
    {
     "name": "stdout",
     "output_type": "stream",
     "text": [
      "Best accuracy is 0.247\n"
     ]
    }
   ],
   "source": [
    "max_score = 0\n",
    "for i in range(100):\n",
    "    model = tree.DecisionTreeClassifier()\n",
    "    score = np.mean(cross_val_score(model, sc_attributes, target_multinomial,cv=10))\n",
    "#    print(\"Averaged accuracy: \" + str(score) )\n",
    "    if (score >= max_score):\n",
    "        max_score = score\n",
    "\n",
    "print(\"Best accuracy is \"+ str(max_score))\n",
    "global_accuracy_scores[\"Decision Tree \"] = max_score"
   ]
  },
  {
   "cell_type": "markdown",
   "metadata": {},
   "source": [
    "### Naïve Bayes"
   ]
  },
  {
   "cell_type": "code",
   "execution_count": 35,
   "metadata": {
    "collapsed": false,
    "scrolled": false
   },
   "outputs": [
    {
     "name": "stdout",
     "output_type": "stream",
     "text": [
      "Averaged Naïve Bayes Accuracy: 0.302\n"
     ]
    }
   ],
   "source": [
    "NB_model = GaussianNB()\n",
    "NB_acc_scores = cross_val_score(NB_model, sc_attributes, target_multinomial,cv=10)\n",
    "\n",
    "avg_NB_acc = np.mean(NB_acc_scores)\n",
    "print(\"Averaged Naïve Bayes Accuracy: \" + str(avg_NB_acc))\n",
    "global_accuracy_scores[\"Naive Bayes\"] = max_score"
   ]
  },
  {
   "cell_type": "markdown",
   "metadata": {},
   "source": [
    "### Neural Networks"
   ]
  },
  {
   "cell_type": "code",
   "execution_count": 36,
   "metadata": {
    "collapsed": false
   },
   "outputs": [
    {
     "name": "stdout",
     "output_type": "stream",
     "text": [
      "\n",
      "Using tanh as activation function:\n",
      "Averaged accuracy for alpha=0.1: 0.302\n",
      "Averaged accuracy for alpha=1: 0.3255\n",
      "Averaged accuracy for alpha=2: 0.3375\n",
      "Averaged accuracy for alpha=5: 0.3635\n",
      "Averaged accuracy for alpha=10: 0.371\n",
      "Averaged accuracy for alpha=20: 0.3675\n",
      "Best accuracy is 0.371 with alpha=10\n",
      "Averaged accuracy for hidden layer size s=20: 0.3665\n",
      "Averaged accuracy for hidden layer size s=25: 0.371\n",
      "Averaged accuracy for hidden layer size s=30: 0.3675\n",
      "Averaged accuracy for hidden layer size s=50: 0.37\n",
      "Averaged accuracy for hidden layer size s=100: 0.3665\n",
      "Averaged accuracy for hidden layer size s=200: 0.3695\n",
      "Best accuracy is 0.371 with hidden layer size s=25\n",
      "\n",
      "Using identity as activation function:\n",
      "Averaged accuracy for alpha=0.1: 0.3715\n",
      "Averaged accuracy for alpha=1: 0.3685\n",
      "Averaged accuracy for alpha=2: 0.3665\n",
      "Averaged accuracy for alpha=5: 0.3675\n",
      "Averaged accuracy for alpha=10: 0.364\n",
      "Averaged accuracy for alpha=20: 0.3655\n",
      "Best accuracy is 0.3715 with alpha=0.1\n",
      "Averaged accuracy for hidden layer size s=20: 0.369\n",
      "Averaged accuracy for hidden layer size s=25: 0.3715\n",
      "Averaged accuracy for hidden layer size s=30: 0.37\n",
      "Averaged accuracy for hidden layer size s=50: 0.372\n",
      "Averaged accuracy for hidden layer size s=100: 0.3705\n",
      "Averaged accuracy for hidden layer size s=200: 0.371\n",
      "Best accuracy is 0.372 with hidden layer size s=50\n",
      "\n",
      "Using logistic as activation function:\n",
      "Averaged accuracy for alpha=0.1: 0.3275\n",
      "Averaged accuracy for alpha=1: 0.3485\n",
      "Averaged accuracy for alpha=2: 0.365\n",
      "Averaged accuracy for alpha=5: 0.365\n",
      "Averaged accuracy for alpha=10: 0.3495\n",
      "Averaged accuracy for alpha=20: 0.3065\n",
      "Best accuracy is 0.365 with alpha=5\n",
      "Averaged accuracy for hidden layer size s=20: 0.3725\n",
      "Averaged accuracy for hidden layer size s=25: 0.365\n",
      "Averaged accuracy for hidden layer size s=30: 0.3685\n",
      "Averaged accuracy for hidden layer size s=50: 0.3705\n",
      "Averaged accuracy for hidden layer size s=100: 0.368\n",
      "Averaged accuracy for hidden layer size s=200: 0.365\n",
      "Best accuracy is 0.3725 with hidden layer size s=20\n",
      "\n",
      "Using relu as activation function:\n",
      "Averaged accuracy for alpha=0.1: 0.3215\n",
      "Averaged accuracy for alpha=1: 0.3265\n",
      "Averaged accuracy for alpha=2: 0.33\n",
      "Averaged accuracy for alpha=5: 0.346\n",
      "Averaged accuracy for alpha=10: 0.362\n",
      "Averaged accuracy for alpha=20: 0.367\n",
      "Best accuracy is 0.367 with alpha=20\n",
      "Averaged accuracy for hidden layer size s=20: 0.3675\n",
      "Averaged accuracy for hidden layer size s=25: 0.367\n",
      "Averaged accuracy for hidden layer size s=30: 0.363\n",
      "Averaged accuracy for hidden layer size s=50: 0.3665\n",
      "Averaged accuracy for hidden layer size s=100: 0.3645\n",
      "Averaged accuracy for hidden layer size s=200: 0.3675\n",
      "Best accuracy is 0.3675 with hidden layer size s=20\n",
      "\n",
      "The best final accuracy is 0.3725 with a hidden layer size of s=20 and alpha=5.\n",
      "\n"
     ]
    }
   ],
   "source": [
    "Alphas = [0.1, 1, 2, 5, 10, 20]\n",
    "HLsizes = [20, 25, 30, 50, 100, 200]\n",
    "Activation_functions = ['tanh', 'identity', 'logistic', 'relu']\n",
    "default_alpha = 5\n",
    "default_size = 25\n",
    "final_score = 0\n",
    "final_alpha = 0\n",
    "final_size = 0\n",
    "\n",
    "for f in Activation_functions:\n",
    "    print(\"\\nUsing \" + f + \" as activation function:\")\n",
    "    max_score=0\n",
    "    best_alpha = default_alpha\n",
    "    best_size = default_size\n",
    "    \n",
    "    for a in Alphas:\n",
    "        model = MLPClassifier(hidden_layer_sizes=(best_size,),alpha=a,activation=f, solver='lbfgs', random_state = 1)\n",
    "        score = np.mean(cross_val_score(model, sc_attributes, target_multinomial,cv=10))\n",
    "        print(\"Averaged accuracy for alpha=\" + str(a) + \": \" + str(score) )\n",
    "        if (score >= max_score):\n",
    "            max_score = score\n",
    "            best_alpha = a\n",
    "    \n",
    "    print(\"Best accuracy is \"+ str(max_score) + \" with alpha=\" + str(best_alpha))\n",
    "    \n",
    "    max_score = 0\n",
    "    for s in HLsizes:\n",
    "        model = MLPClassifier(hidden_layer_sizes=(s,), alpha=best_alpha, activation=f, solver='lbfgs', random_state = 1)\n",
    "        score = np.mean(cross_val_score(model, sc_attributes, target_multinomial,cv=10))\n",
    "        print(\"Averaged accuracy for hidden layer size s=\" + str(s) + \": \" + str(score) )\n",
    "        if (score > max_score):\n",
    "            max_score = score\n",
    "            best_size = s\n",
    "    \n",
    "    print(\"Best accuracy is \"+ str(max_score) + \" with hidden layer size s=\" + str(best_size))\n",
    "    if (max_score > final_score):\n",
    "        final_score = max_score\n",
    "        final_alpha = best_alpha\n",
    "        final_size = best_size\n",
    "\n",
    "print(\"\\nThe best final accuracy is \" + str(final_score) + \" with a hidden layer size of s=\" + str(final_size) + \" and alpha=\" + str(final_alpha)+ \".\\n\")\n",
    "global_accuracy_scores[\"Neural Networks\"] = final_score"
   ]
  },
  {
   "cell_type": "markdown",
   "metadata": {},
   "source": [
    "### Support Vector Machine"
   ]
  },
  {
   "cell_type": "code",
   "execution_count": 37,
   "metadata": {
    "collapsed": false,
    "scrolled": false
   },
   "outputs": [
    {
     "name": "stdout",
     "output_type": "stream",
     "text": [
      "Using linear kernel\n",
      "Averaged accuracy for c=0.01: 0.3245\n",
      "Averaged accuracy for c=0.1: 0.3665\n",
      "Averaged accuracy for c=1: 0.3655\n",
      "Averaged accuracy for c=2: 0.3645\n",
      "Averaged accuracy for c=3: 0.366\n",
      "Averaged accuracy for c=5: 0.3645\n",
      "Best accuracy is 0.3665 with c=0.1\n",
      "\n",
      "Using poly kernel\n",
      "Averaged accuracy for c=0.01: 0.1395\n",
      "Averaged accuracy for c=0.1: 0.207\n",
      "Averaged accuracy for c=1: 0.293\n",
      "Averaged accuracy for c=2: 0.302\n",
      "Averaged accuracy for c=3: 0.299\n",
      "Averaged accuracy for c=5: 0.3025\n",
      "Best accuracy is 0.3025 with c=5\n",
      "\n",
      "Using rbf kernel\n",
      "Averaged accuracy for c=0.01: 0.3125\n",
      "Averaged accuracy for c=0.1: 0.3155\n",
      "Averaged accuracy for c=1: 0.346\n",
      "Averaged accuracy for c=2: 0.3445\n",
      "Averaged accuracy for c=3: 0.3415\n",
      "Averaged accuracy for c=5: 0.3315\n",
      "Best accuracy is 0.346 with c=1\n",
      "\n",
      "Using sigmoid kernel\n",
      "Averaged accuracy for c=0.01: 0.277\n",
      "Averaged accuracy for c=0.1: 0.287\n",
      "Averaged accuracy for c=1: 0.2945\n",
      "Averaged accuracy for c=2: 0.29\n",
      "Averaged accuracy for c=3: 0.2855\n",
      "Averaged accuracy for c=5: 0.277\n",
      "Best accuracy is 0.2945 with c=1\n",
      "\n"
     ]
    }
   ],
   "source": [
    "Cs = [0.01,0.1,1,2,3,5]\n",
    "kernels = ['linear', 'poly', 'rbf', 'sigmoid']\n",
    "\n",
    "for k in kernels:\n",
    "    print(\"Using \"+ k + \" kernel\")\n",
    "    max_score = 0\n",
    "    best_c = Cs[0]\n",
    "    for c in Cs:\n",
    "        model = SVC(kernel = k,C=c, random_state=1)\n",
    "        score = np.mean(cross_val_score(model, sc_attributes, target_multinomial,cv=10, scoring='accuracy'))\n",
    "        print(\"Averaged accuracy for c=\" + str(c) + \": \" + str(score) )\n",
    "        if (score > max_score):\n",
    "            max_score = score\n",
    "            best_c = c\n",
    "            \n",
    "    print(\"Best accuracy is \"+ str(max_score) + \" with c=\" + str(best_c)+\"\\n\")\n",
    "\n",
    "global_accuracy_scores[\"Support Vector Machine\"] = max_score"
   ]
  },
  {
   "cell_type": "markdown",
   "metadata": {},
   "source": [
    "### Random Forest"
   ]
  },
  {
   "cell_type": "markdown",
   "metadata": {},
   "source": [
    "According to [the documentation of scikit-learn](http://scikit-learn.org/stable/modules/ensemble.html#parameters), the main parameters to adjust when using these methods are n_estimators and max_features.\n",
    "\n",
    "Besides, it can be seen in the same page that empirical good default value for classification tasks is max_features=sqrt(n_features), which is the default value.\n",
    "\n",
    "Thus, the optimization will only be done over n_estimators.\n",
    "\n",
    "After a first loop, we saw that there is no significan enhancement after n_estimators > 50"
   ]
  },
  {
   "cell_type": "code",
   "execution_count": 38,
   "metadata": {
    "collapsed": false
   },
   "outputs": [
    {
     "name": "stdout",
     "output_type": "stream",
     "text": [
      "Averaged accuracy for estimator=50: 0.3545\n",
      "Averaged accuracy for estimator=51: 0.356\n",
      "Averaged accuracy for estimator=52: 0.3495\n",
      "Averaged accuracy for estimator=53: 0.348\n",
      "Averaged accuracy for estimator=54: 0.353\n",
      "Averaged accuracy for estimator=55: 0.3505\n",
      "Averaged accuracy for estimator=56: 0.3515\n",
      "Averaged accuracy for estimator=57: 0.3495\n",
      "Averaged accuracy for estimator=58: 0.352\n",
      "Averaged accuracy for estimator=59: 0.3515\n",
      "Averaged accuracy for estimator=60: 0.352\n",
      "Averaged accuracy for estimator=61: 0.351\n",
      "Averaged accuracy for estimator=62: 0.352\n",
      "Averaged accuracy for estimator=63: 0.354\n",
      "Averaged accuracy for estimator=64: 0.356\n",
      "Averaged accuracy for estimator=65: 0.3555\n",
      "Averaged accuracy for estimator=66: 0.3525\n",
      "Averaged accuracy for estimator=67: 0.356\n",
      "Averaged accuracy for estimator=68: 0.3595\n",
      "Averaged accuracy for estimator=69: 0.359\n",
      "Averaged accuracy for estimator=70: 0.361\n",
      "Best accuracy is 0.361 with estimator=70\n"
     ]
    }
   ],
   "source": [
    "estimators = range(50, 71, 1)\n",
    "max_score = 0\n",
    "best_estimator = 1\n",
    "\n",
    "for e in estimators:\n",
    "    model = RandomForestClassifier(n_estimators=e, random_state=1)\n",
    "    score = np.mean(cross_val_score(model, sc_attributes, target_multinomial,cv=10))\n",
    "    print(\"Averaged accuracy for estimator=\" + str(e) + \": \" + str(score) )\n",
    "    if (score >= max_score):\n",
    "        max_score = score\n",
    "        best_estimator = e\n",
    "\n",
    "print(\"Best accuracy is \"+ str(max_score) + \" with estimator=\" + str(best_estimator))\n",
    "global_accuracy_scores[\"Random Forest\"] = max_score"
   ]
  },
  {
   "cell_type": "markdown",
   "metadata": {},
   "source": [
    "### Comparison of Models"
   ]
  },
  {
   "cell_type": "code",
   "execution_count": 39,
   "metadata": {
    "collapsed": false
   },
   "outputs": [
    {
     "data": {
      "text/plain": [
       "<Container object of 8 artists>"
      ]
     },
     "execution_count": 39,
     "metadata": {},
     "output_type": "execute_result"
    },
    {
     "data": {
      "image/png": "[encoded data removed]",
      "text/plain": [
       "<matplotlib.figure.Figure at 0x7f6cf0389898>"
      ]
     },
     "metadata": {},
     "output_type": "display_data"
    }
   ],
   "source": [
    "plt.xticks(range(len(global_accuracy_scores)), global_accuracy_scores.keys(), rotation=90)\n",
    "plt.bar(range(len(global_accuracy_scores)), global_accuracy_scores.values(), align='center')"
   ]
  },
  {
   "cell_type": "markdown",
   "metadata": {},
   "source": [
    "# Final Model: Logistic Regression"
   ]
  },
  {
   "cell_type": "markdown",
   "metadata": {},
   "source": [
    "When looking at the accuracies and the graph above, we can see that Neural Networks, Random Forest and Logistic Regression are the 3 models that fit our data the best, with Neural Networks being first by a very small margin.\n",
    "However, after considering the efficiency and the speed of the processing, we chose Logistic Regression as it is the model that is the less complicated, the fastest and the most efficient, as it is gives a slightly better accuracy than Random Forest and a slightly lower one than Neural Network, whereas the latter is a lot slower.\n",
    "\n",
    "As a result, to better illustrate the predictions made, we can draw a confusion matrix and look at the top positive and top negative features of our data relative to our Logistic Regression model."
   ]
  },
  {
   "cell_type": "code",
   "execution_count": 44,
   "metadata": {
    "collapsed": false
   },
   "outputs": [
    {
     "name": "stdout",
     "output_type": "stream",
     "text": [
      "Logistic regression cross-validation performance: accuracy=0.371\n"
     ]
    }
   ],
   "source": [
    "print(\"Logistic regression cross-validation performance: accuracy=\" + str(global_accuracy_scores['Logistic Regression ']))"
   ]
  },
  {
   "cell_type": "markdown",
   "metadata": {},
   "source": [
    "## Splitting and fitting"
   ]
  },
  {
   "cell_type": "code",
   "execution_count": 41,
   "metadata": {
    "collapsed": true
   },
   "outputs": [],
   "source": [
    "x_train, x_test, y_train, y_test = train_test_split(sc_attributes, target_multinomial, train_size=0.67, random_state=1)\n",
    "\n",
    "best_model =  LogisticRegression(C=lr_best_c, multi_class='multinomial', solver='newton-cg')\n",
    "best_model_fitted = best_model.fit(x_train,y_train)"
   ]
  },
  {
   "cell_type": "markdown",
   "metadata": {
    "collapsed": true
   },
   "source": [
    "## Confusion Matrix"
   ]
  },
  {
   "cell_type": "code",
   "execution_count": 42,
   "metadata": {
    "collapsed": false
   },
   "outputs": [
    {
     "data": {
      "image/png": "[encoded data removed]",
      "text/plain": [
       "<matplotlib.figure.Figure at 0x7f6cf04bbc50>"
      ]
     },
     "metadata": {},
     "output_type": "display_data"
    }
   ],
   "source": [
    "cnf_mat_model(best_model,sc_attributes,target_multinomial)"
   ]
  },
  {
   "cell_type": "markdown",
   "metadata": {},
   "source": [
    "## Important Features"
   ]
  },
  {
   "cell_type": "code",
   "execution_count": 43,
   "metadata": {
    "collapsed": false
   },
   "outputs": [
    {
     "name": "stdout",
     "output_type": "stream",
     "text": [
      "alternative:\n",
      "\tBest attribute loudness - weights=0.745\n",
      "\tWorst attribute speechiness - weights=-0.538\n",
      "blues:\n",
      "\tBest attribute acousticness - weights=1.906\n",
      "\tWorst attribute energy - weights=-1.270\n",
      "classical:\n",
      "\tBest attribute acousticness - weights=3.015\n",
      "\tWorst attribute danceability - weights=-3.361\n",
      "country:\n",
      "\tBest attribute acousticness - weights=1.671\n",
      "\tWorst attribute instrumentalness - weights=-13.466\n",
      "electro:\n",
      "\tBest attribute instrumentalness - weights=1.689\n",
      "\tWorst attribute valence - weights=-0.926\n",
      "folk:\n",
      "\tBest attribute acousticness - weights=1.881\n",
      "\tWorst attribute speechiness - weights=-1.356\n",
      "french:\n",
      "\tBest attribute acousticness - weights=2.289\n",
      "\tWorst attribute energy - weights=-1.127\n",
      "hard-rock:\n",
      "\tBest attribute energy - weights=1.237\n",
      "\tWorst attribute loudness - weights=-1.120\n",
      "heavy-metal:\n",
      "\tBest attribute energy - weights=4.239\n",
      "\tWorst attribute acousticness - weights=-21.172\n",
      "hip-hop:\n",
      "\tBest attribute danceability - weights=2.461\n",
      "\tWorst attribute instrumentalness - weights=-1.760\n",
      "indie:\n",
      "\tBest attribute acousticness - weights=1.336\n",
      "\tWorst attribute speechiness - weights=-2.552\n",
      "jazz:\n",
      "\tBest attribute acousticness - weights=2.483\n",
      "\tWorst attribute energy - weights=-1.111\n",
      "pop:\n",
      "\tBest attribute loudness - weights=1.944\n",
      "\tWorst attribute energy - weights=-1.073\n",
      "psych-rock:\n",
      "\tBest attribute instrumentalness - weights=1.788\n",
      "\tWorst attribute danceability - weights=-2.009\n",
      "punk-rock:\n",
      "\tBest attribute energy - weights=2.693\n",
      "\tWorst attribute duration_ms - weights=-1.474\n",
      "r-n-b:\n",
      "\tBest attribute loudness - weights=1.446\n",
      "\tWorst attribute energy - weights=-1.420\n",
      "reggae:\n",
      "\tBest attribute speechiness - weights=1.656\n",
      "\tWorst attribute energy - weights=-1.103\n",
      "rock:\n",
      "\tBest attribute instrumentalness - weights=0.746\n",
      "\tWorst attribute danceability - weights=-0.836\n",
      "soul:\n",
      "\tBest attribute acousticness - weights=1.563\n",
      "\tWorst attribute energy - weights=-1.345\n",
      "techno:\n",
      "\tBest attribute danceability - weights=2.684\n",
      "\tWorst attribute loudness - weights=-3.474\n"
     ]
    }
   ],
   "source": [
    "indices_max_weights = np.argmax(best_model_fitted.coef_, axis=1)\n",
    "indices_min_weights = np.argmin(best_model_fitted.coef_, axis=1)\n",
    "\n",
    "for index,genre in enumerate(GENRES):\n",
    "    print('%s:' % genre)\n",
    "    print('\\tBest attribute %s - weights=%0.3f' % (pd_attributes.columns.values[indices_max_weights[index]], best_model_fitted.coef_[index][indices_max_weights[index]]))\n",
    "    print('\\tWorst attribute %s - weights=%0.3f' % (pd_attributes.columns.values[indices_min_weights[index]], best_model_fitted.coef_[index][indices_min_weights[index]]))"
   ]
  },
  {
   "cell_type": "code",
   "execution_count": null,
   "metadata": {
    "collapsed": true
   },
   "outputs": [],
   "source": []
  },
  {
   "cell_type": "code",
   "execution_count": null,
   "metadata": {
    "collapsed": true
   },
   "outputs": [],
   "source": []
  },
  {
   "cell_type": "code",
   "execution_count": null,
   "metadata": {
    "collapsed": true
   },
   "outputs": [],
   "source": []
  }
 ],
 "metadata": {
  "anaconda-cloud": {},
  "kernelspec": {
   "display_name": "Python [conda root]",
   "language": "python",
   "name": "conda-root-py"
  },
  "language_info": {
   "codemirror_mode": {
    "name": "ipython",
    "version": 3
   },
   "file_extension": ".py",
   "mimetype": "text/x-python",
   "name": "python",
   "nbconvert_exporter": "python",
   "pygments_lexer": "ipython3",
   "version": "3.5.2"
  }
 },
 "nbformat": 4,
 "nbformat_minor": 0
}
